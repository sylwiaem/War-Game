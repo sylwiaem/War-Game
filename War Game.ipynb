{
    "cells": [
        {
            "cell_type": "markdown",
            "metadata": {},
            "source": "## WAR GAME"
        },
        {
            "cell_type": "code",
            "execution_count": 28,
            "metadata": {},
            "outputs": [],
            "source": "#CARD\n#SUIT, RANK, VALUE\n\nimport random\n\nsuits = ('Hearts', 'Diamonds', 'Spades', 'Clubs')\nranks = ('Two', 'Three', 'Four', 'Five', 'Six', 'Seven', 'Eight', 'Nine', 'Ten', 'Jack', 'Queen', 'King', 'Ace')\nvalues = {'Two':2, 'Three':3, 'Four':4, 'Five':5, 'Six':6, 'Seven':7, 'Eight':8, \n            'Nine':9, 'Ten':10, 'Jack':11, 'Queen':12, 'King':13, 'Ace':14}"
        },
        {
            "cell_type": "code",
            "execution_count": 29,
            "metadata": {},
            "outputs": [],
            "source": "class Card:\n    \n    def __init__(self,suit,rank):\n        self.suit = suit\n        self.rank = rank\n        self.value = values[rank]\n        \n    def __str__(self):\n        return self.rank + \" of \" + self.suit"
        },
        {
            "cell_type": "code",
            "execution_count": 30,
            "metadata": {},
            "outputs": [],
            "source": "class Deck:\n    \n    def __init__(self):\n        self.all_cards = []\n        \n        for suit in suits:\n            for rank in ranks:\n                #Create the Card object\n                \n                created_card = Card(suit,rank)\n                \n                self.all_cards.append(created_card)\n                \n    def shuffle(self):\n        \n        random.shuffle(self.all_cards)\n        \n    def deal_one(self):\n        \n        return self.all_cards.pop()\n    "
        },
        {
            "cell_type": "code",
            "execution_count": 31,
            "metadata": {},
            "outputs": [],
            "source": "class Player:\n    \n    def __init__(self,name):\n        \n        self.name = name\n        self.all_cards = []\n        \n    def remove_one(self):\n        return self.all_cards.pop(0)\n    \n    def add_cards(self,new_cards):\n        \n       \n        if type(new_cards) == type([]):\n             # List of multiple card objects\n            self.all_cards.extend(new_cards)\n        else:\n            # For a single card object\n            self.all_cards.append(new_cards)\n        \n    \n    def __str__(self):\n        \n        return f'Player {self.name} has {len(self.all_cards)} cards.'"
        },
        {
            "cell_type": "code",
            "execution_count": 32,
            "metadata": {},
            "outputs": [],
            "source": "new_player = Player('Sylwia')"
        },
        {
            "cell_type": "code",
            "execution_count": 33,
            "metadata": {},
            "outputs": [
                {
                    "name": "stdout",
                    "output_type": "stream",
                    "text": "Player Sylwia has 0 cards.\n"
                }
            ],
            "source": "print(new_player)"
        },
        {
            "cell_type": "code",
            "execution_count": 34,
            "metadata": {},
            "outputs": [
                {
                    "ename": "NameError",
                    "evalue": "name 'mycard' is not defined",
                    "output_type": "error",
                    "traceback": [
                        "\u001b[0;31m---------------------------------------------------------------------------\u001b[0m",
                        "\u001b[0;31mNameError\u001b[0m                                 Traceback (most recent call last)",
                        "\u001b[0;32m<ipython-input-34-b68d0e81a423>\u001b[0m in \u001b[0;36m<module>\u001b[0;34m\u001b[0m\n\u001b[0;32m----> 1\u001b[0;31m \u001b[0mnew_player\u001b[0m\u001b[0;34m.\u001b[0m\u001b[0madd_cards\u001b[0m\u001b[0;34m(\u001b[0m\u001b[0mmycard\u001b[0m\u001b[0;34m)\u001b[0m\u001b[0;34m\u001b[0m\u001b[0;34m\u001b[0m\u001b[0m\n\u001b[0m",
                        "\u001b[0;31mNameError\u001b[0m: name 'mycard' is not defined"
                    ]
                }
            ],
            "source": "new_player.add_cards(mycard)"
        },
        {
            "cell_type": "code",
            "execution_count": null,
            "metadata": {},
            "outputs": [],
            "source": "print(new_player)"
        },
        {
            "cell_type": "code",
            "execution_count": null,
            "metadata": {},
            "outputs": [],
            "source": "print(new_player.all_cards[0])"
        },
        {
            "cell_type": "code",
            "execution_count": null,
            "metadata": {},
            "outputs": [],
            "source": "new_player.add_cards([mycard,mycard,mycard,mycard,mycard])"
        },
        {
            "cell_type": "code",
            "execution_count": null,
            "metadata": {},
            "outputs": [],
            "source": "print(new_player)"
        },
        {
            "cell_type": "code",
            "execution_count": null,
            "metadata": {},
            "outputs": [],
            "source": "new_player.remove_one()"
        },
        {
            "cell_type": "code",
            "execution_count": null,
            "metadata": {},
            "outputs": [],
            "source": "print(new_player.remove_one())"
        },
        {
            "cell_type": "code",
            "execution_count": 42,
            "metadata": {},
            "outputs": [],
            "source": "# GAME SETUP\nplayer_one = Player(\"One\")\nplayer_two = Player(\"Two\")\n\nnew_deck = Deck()\nnew_deck.shuffle()\n\nfor x in range(26):\n    player_one.add_cards(new_deck.deal_one())\n    player_two.add_cards(new_deck.deal_one())"
        },
        {
            "cell_type": "code",
            "execution_count": 43,
            "metadata": {},
            "outputs": [],
            "source": "game_on = True"
        },
        {
            "cell_type": "code",
            "execution_count": 44,
            "metadata": {},
            "outputs": [
                {
                    "name": "stdout",
                    "output_type": "stream",
                    "text": "Round 1\nRound 2\nRound 3\nRound 4\nRound 5\nRound 6\nRound 7\nRound 8\nRound 9\nRound 10\nRound 11\nRound 12\nRound 13\nRound 14\nRound 15\nRound 16\nRound 17\nRound 18\nRound 19\nRound 20\nRound 21\nWAR!\nRound 22\nRound 23\nWAR!\nRound 24\nRound 25\nRound 26\nRound 27\nRound 28\nWAR!\nRound 29\nRound 30\nRound 31\nRound 32\nRound 33\nRound 34\nRound 35\nRound 36\nRound 37\nRound 38\nRound 39\nWAR!\nRound 40\nRound 41\nRound 42\nRound 43\nRound 44\nRound 45\nRound 46\nRound 47\nRound 48\nWAR!\nRound 49\nRound 50\nRound 51\nRound 52\nRound 53\nRound 54\nRound 55\nRound 56\nRound 57\nRound 58\nRound 59\nRound 60\nRound 61\nRound 62\nWAR!\nRound 63\nRound 64\nRound 65\nRound 66\nWAR!\nRound 67\nRound 68\nRound 69\nRound 70\nRound 71\nRound 72\nRound 73\nRound 74\nRound 75\nRound 76\nRound 77\nRound 78\nRound 79\nRound 80\nRound 81\nRound 82\nRound 83\nRound 84\nRound 85\nRound 86\nRound 87\nRound 88\nRound 89\nRound 90\nRound 91\nRound 92\nRound 93\nRound 94\nRound 95\nRound 96\nRound 97\nRound 98\nRound 99\nRound 100\nRound 101\nRound 102\nRound 103\nRound 104\nRound 105\nRound 106\nRound 107\nRound 108\nRound 109\nRound 110\nWAR!\nRound 111\nRound 112\nRound 113\nRound 114\nRound 115\nRound 116\nRound 117\nWAR!\nRound 118\nRound 119\nWAR!\nRound 120\nWAR!\nRound 121\nRound 122\nRound 123\nRound 124\nRound 125\nRound 126\nRound 127\nRound 128\nRound 129\nRound 130\nRound 131\nRound 132\nRound 133\nRound 134\nWAR!\nRound 135\nRound 136\nRound 137\nRound 138\nRound 139\nRound 140\nRound 141\nRound 142\nRound 143\nWAR!\nRound 144\nWAR!\nRound 145\nRound 146\nRound 147\nRound 148\nRound 149\nRound 150\nRound 151\nRound 152\nRound 153\nRound 154\nRound 155\nRound 156\nRound 157\nRound 158\nRound 159\nRound 160\nRound 161\nRound 162\nRound 163\nRound 164\nRound 165\nRound 166\nRound 167\nRound 168\nRound 169\nRound 170\nRound 171\nRound 172\nRound 173\nRound 174\nRound 175\nRound 176\nRound 177\nWAR!\nRound 178\nRound 179\nRound 180\nRound 181\nRound 182\nWAR!\nRound 183\nRound 184\nRound 185\nRound 186\nRound 187\nRound 188\nRound 189\nRound 190\nRound 191\nRound 192\nRound 193\nRound 194\nRound 195\nRound 196\nRound 197\nRound 198\nRound 199\nRound 200\nRound 201\nRound 202\nRound 203\nRound 204\nRound 205\nRound 206\nRound 207\nRound 208\nRound 209\nRound 210\nRound 211\nRound 212\nRound 213\nRound 214\nRound 215\nRound 216\nRound 217\nRound 218\nRound 219\nRound 220\nRound 221\nRound 222\nRound 223\nRound 224\nRound 225\nRound 226\nRound 227\nRound 228\nRound 229\nRound 230\nRound 231\nRound 232\nRound 233\nRound 234\nRound 235\nRound 236\nRound 237\nRound 238\nRound 239\nRound 240\nRound 241\nRound 242\nRound 243\nRound 244\nRound 245\nRound 246\nRound 247\nRound 248\nRound 249\nRound 250\nRound 251\nRound 252\nRound 253\nRound 254\nRound 255\nRound 256\nRound 257\nRound 258\nRound 259\nRound 260\nRound 261\nRound 262\nRound 263\nRound 264\nRound 265\nRound 266\nRound 267\nRound 268\nRound 269\nRound 270\nRound 271\nRound 272\nRound 273\nRound 274\nRound 275\nRound 276\nRound 277\nRound 278\nRound 279\nRound 280\nRound 281\nRound 282\nRound 283\nRound 284\nRound 285\nRound 286\nRound 287\nRound 288\nRound 289\nRound 290\nRound 291\nRound 292\nRound 293\nRound 294\nRound 295\nRound 296\nRound 297\nRound 298\nRound 299\nRound 300\nRound 301\nRound 302\nRound 303\nRound 304\nRound 305\nRound 306\nRound 307\nRound 308\nWAR!\nRound 309\nRound 310\nRound 311\nRound 312\nRound 313\nRound 314\nRound 315\nRound 316\nRound 317\nWAR!\nWAR!\nRound 318\nRound 319\nRound 320\nRound 321\nRound 322\nRound 323\nRound 324\nRound 325\nRound 326\nRound 327\nRound 328\nRound 329\nRound 330\nRound 331\nRound 332\nRound 333\nRound 334\nRound 335\nRound 336\nRound 337\nRound 338\nRound 339\nRound 340\nRound 341\nRound 342\nRound 343\nRound 344\nRound 345\nRound 346\nWAR!\nRound 347\nPlayer One out of cards! Game Over\nPlayer Two Wins!\n"
                }
            ],
            "source": "# WHILE GAME_ON\n\nround_num = 0\nwhile game_on:\n    \n    round_num += 1\n    print(f\"Round {round_num}\")\n    \n    # Check to see if a player is out of cards:\n    if len(player_one.all_cards) == 0:\n        print(\"Player One out of cards! Game Over\")\n        print(\"Player Two Wins!\")\n        game_on = False\n        break\n        \n    if len(player_two.all_cards) == 0:\n        print(\"Player Two out of cards! Game Over\")\n        print(\"Player One Wins!\")\n        game_on = False\n        break\n    \n    # Otherwise, the game is still on!\n    \n    # Start a new round and reset current cards \"on the table\"\n    player_one_cards = []\n    player_one_cards.append(player_one.remove_one())\n    \n    player_two_cards = []\n    player_two_cards.append(player_two.remove_one())\n    \n    at_war = True\n\n    while at_war:\n\n\n        if player_one_cards[-1].value > player_two_cards[-1].value:\n\n            # Player One gets the cards\n            player_one.add_cards(player_one_cards)\n            player_one.add_cards(player_two_cards)\n            \n            \n            # No Longer at \"war\" , time for next round\n            at_war = False\n        \n        # Player Two Has higher Card\n        elif player_one_cards[-1].value < player_two_cards[-1].value:\n\n            # Player Two gets the cards\n            player_two.add_cards(player_one_cards)\n            player_two.add_cards(player_two_cards)\n            \n            # No Longer at \"war\" , time for next round\n            at_war = False\n\n        else:\n            print('WAR!')\n            # This occurs when the cards are equal.\n            # We'll grab another card each and continue the current war.\n            \n            # First check to see if player has enough cards\n            \n            # Check to see if a player is out of cards:\n            if len(player_one.all_cards) < 5:\n                print(\"Player One unable to play war! Game Over at War\")\n                print(\"Player Two Wins! Player One Loses!\")\n                game_on = False\n                break\n\n            elif len(player_two.all_cards) < 5:\n                print(\"Player Two unable to play war! Game Over at War\")\n                print(\"Player One Wins! Player One Loses!\")\n                game_on = False\n                break\n            # Otherwise, we're still at war, so we'll add the next cards\n            else:\n                for num in range(5):\n                    player_one_cards.append(player_one.remove_one())\n                    player_two_cards.append(player_two.remove_one())"
        },
        {
            "cell_type": "code",
            "execution_count": null,
            "metadata": {},
            "outputs": [],
            "source": ""
        }
    ],
    "metadata": {
        "kernelspec": {
            "display_name": "Python 3.6",
            "language": "python",
            "name": "python3"
        },
        "language_info": {
            "codemirror_mode": {
                "name": "ipython",
                "version": 3
            },
            "file_extension": ".py",
            "mimetype": "text/x-python",
            "name": "python",
            "nbconvert_exporter": "python",
            "pygments_lexer": "ipython3",
            "version": "3.6.9"
        }
    },
    "nbformat": 4,
    "nbformat_minor": 1
}